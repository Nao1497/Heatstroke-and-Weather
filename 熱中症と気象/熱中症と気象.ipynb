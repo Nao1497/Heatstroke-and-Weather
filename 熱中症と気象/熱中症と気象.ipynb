{
 "cells": [
  {
   "cell_type": "markdown",
   "id": "053398a7",
   "metadata": {},
   "source": [
    "# 気象データを用いた熱中症患者数の予測\n",
    "\n",
    "---\n",
    "\n",
    "## 1. はじめに\n",
    "\n",
    "本ノートブックでは、気象データから東京の熱中症患者数を予測する機械学習モデルの構築を行う。\n",
    "\n",
    "機械学習のアルゴリズムには、重回帰分析を利用する。\n",
    "\n",
    "\n",
    "## 2. 本ノートブックの目的\n",
    "\n",
    "本ノートブックの目的は、以下の３つの処理の実行と検証\n",
    "\n",
    "- モデルの学習\n",
    "- 学習済みモデルの検証\n",
    "- 学習済みモデルの保存"
   ]
  },
  {
   "cell_type": "markdown",
   "id": "f7250ad2",
   "metadata": {},
   "source": [
    "---\n",
    "\n",
    "## 3. 処理フロー\n",
    "\n",
    "1. データセットのロード\n",
    "2. データセットの確認\n",
    "3. 重回帰分析の学習\n",
    "4. 学習済みモデルの検証\n",
    "5. 学習済みモデルの保存\n",
    "\n",
    "<br>\n",
    "\n",
    "---"
   ]
  },
  {
   "cell_type": "markdown",
   "id": "02206a17",
   "metadata": {},
   "source": [
    "## 4. 処理詳細\n",
    "\n",
    "### 4.1. 必要なライブラリのインポート\n",
    "\n",
    "本分析の学習に必要なライブラリをまとめて、インポートする\n",
    "\n",
    "利用するライブラリとその用途を下記にまとめる\n",
    "\n",
    "\n",
    "|パッケージ名|用途|\n",
    "|---|:--|\n",
    "|pandas|データフレームの使用|\n",
    "|train_test_split|訓練データとテストデータの分割|\n",
    "|LinearRegression|重回帰分析の実装|\n",
    "|cross_val_score|K-分割交差検証|\n",
    "|numpy|VIFの計算|\n",
    "|variance_inflation_factor|VIFの計算|\n",
    "|pickle|モデルの保存|"
   ]
  },
  {
   "cell_type": "code",
   "execution_count": 1,
   "id": "821b791e",
   "metadata": {},
   "outputs": [],
   "source": [
    "import pandas as pd\n",
    "\n",
    "from sklearn.model_selection import train_test_split\n",
    "from sklearn.linear_model import LinearRegression\n",
    "\n",
    "from sklearn.model_selection import cross_val_score\n",
    "\n",
    "import numpy as np\n",
    "from statsmodels.stats.outliers_influence import variance_inflation_factor\n",
    "\n",
    "import pickle"
   ]
  },
  {
   "cell_type": "markdown",
   "id": "c14c26f6",
   "metadata": {},
   "source": [
    "### 4.2. データフレームの定義\n",
    "\n",
    "本分析で用いる、データフレームを定義する\n",
    "\n",
    "|データ名|用途|\n",
    "|:-:|:--|\n",
    "|data_merge|熱中症情報の結合|\n",
    "|data_weather|熱中症情報と気象データの結合|"
   ]
  },
  {
   "cell_type": "code",
   "execution_count": 2,
   "id": "ca36eb4b",
   "metadata": {},
   "outputs": [],
   "source": [
    "data_merge = pd.DataFrame()\n",
    "data_weather = pd.DataFrame()"
   ]
  },
  {
   "cell_type": "markdown",
   "id": "792f80c5",
   "metadata": {},
   "source": [
    "### 4.3. データセットのダウンロードと整形\n",
    "\n",
    "以下、本分析で使用するデータ\n",
    "\n",
    "|データ名|形式|内容|URL|\n",
    "|:-:|:--|:--|:--|\n",
    "|weather_tokyo.csv|Microsoft Excel CSV ファイル (.csv)|気象庁 過去の気象データ|https://www.data.jma.go.jp/risk/obsdl/index.php|\n",
    "|2010～2022.xlsx|Microsoft Excel ワークシート (.xlsx)|総務省消防庁　熱中症情報|https://www.fdma.go.jp/disaster/heatstroke/post4.html|\n",
    "|final_wbgt_44132.csv|Microsoft Excel CSV ファイル (.csv)|熱中症予防情報サイト|https://www.wbgt.env.go.jp/wbgt_data.php|"
   ]
  },
  {
   "cell_type": "code",
   "execution_count": 3,
   "id": "e971f834",
   "metadata": {},
   "outputs": [],
   "source": [
    "weather = pd.read_csv('weather_tokyo.csv', encoding='shift_jis')"
   ]
  },
  {
   "cell_type": "code",
   "execution_count": 4,
   "id": "ec6ae19f",
   "metadata": {},
   "outputs": [
    {
     "data": {
      "text/html": [
       "<div>\n",
       "<style scoped>\n",
       "    .dataframe tbody tr th:only-of-type {\n",
       "        vertical-align: middle;\n",
       "    }\n",
       "\n",
       "    .dataframe tbody tr th {\n",
       "        vertical-align: top;\n",
       "    }\n",
       "\n",
       "    .dataframe thead th {\n",
       "        text-align: right;\n",
       "    }\n",
       "</style>\n",
       "<table border=\"1\" class=\"dataframe\">\n",
       "  <thead>\n",
       "    <tr style=\"text-align: right;\">\n",
       "      <th></th>\n",
       "      <th>日付</th>\n",
       "      <th>最高気温(℃)</th>\n",
       "      <th>日照時間(時間)</th>\n",
       "      <th>平均風速(m/s)</th>\n",
       "      <th>平均湿度(％)</th>\n",
       "    </tr>\n",
       "  </thead>\n",
       "  <tbody>\n",
       "    <tr>\n",
       "      <th>0</th>\n",
       "      <td>2010-05-01</td>\n",
       "      <td>20.1</td>\n",
       "      <td>11.7</td>\n",
       "      <td>2.7</td>\n",
       "      <td>45</td>\n",
       "    </tr>\n",
       "    <tr>\n",
       "      <th>1</th>\n",
       "      <td>2010-05-02</td>\n",
       "      <td>22.1</td>\n",
       "      <td>11.4</td>\n",
       "      <td>2.8</td>\n",
       "      <td>41</td>\n",
       "    </tr>\n",
       "    <tr>\n",
       "      <th>2</th>\n",
       "      <td>2010-05-03</td>\n",
       "      <td>24.0</td>\n",
       "      <td>8.9</td>\n",
       "      <td>4.0</td>\n",
       "      <td>51</td>\n",
       "    </tr>\n",
       "    <tr>\n",
       "      <th>3</th>\n",
       "      <td>2010-05-04</td>\n",
       "      <td>24.7</td>\n",
       "      <td>7.2</td>\n",
       "      <td>2.9</td>\n",
       "      <td>61</td>\n",
       "    </tr>\n",
       "    <tr>\n",
       "      <th>4</th>\n",
       "      <td>2010-05-05</td>\n",
       "      <td>27.6</td>\n",
       "      <td>10.5</td>\n",
       "      <td>2.5</td>\n",
       "      <td>64</td>\n",
       "    </tr>\n",
       "  </tbody>\n",
       "</table>\n",
       "</div>"
      ],
      "text/plain": [
       "           日付  最高気温(℃)  日照時間(時間)  平均風速(m/s)  平均湿度(％)\n",
       "0  2010-05-01     20.1      11.7        2.7       45\n",
       "1  2010-05-02     22.1      11.4        2.8       41\n",
       "2  2010-05-03     24.0       8.9        4.0       51\n",
       "3  2010-05-04     24.7       7.2        2.9       61\n",
       "4  2010-05-05     27.6      10.5        2.5       64"
      ]
     },
     "execution_count": 4,
     "metadata": {},
     "output_type": "execute_result"
    }
   ],
   "source": [
    "weather.head() "
   ]
  },
  {
   "cell_type": "markdown",
   "id": "5836a483",
   "metadata": {},
   "source": [
    "#### 熱中症情報について整形を行う\n",
    "\n",
    "①各シートにアクセス\n",
    "\n",
    "②都道府県コードが13（東京）であるものをdataに格納"
   ]
  },
  {
   "cell_type": "code",
   "execution_count": 5,
   "id": "cdecccb4",
   "metadata": {},
   "outputs": [],
   "source": [
    "year = ['2010', '2011','2012','2013', '2014', '2015', '2016', '2017','2018', '2019', '2020', '2021','2022']\n",
    "\n",
    "for y in year:\n",
    "    df = pd.read_excel(y+'.xlsx', sheet_name=None)\n",
    "    \n",
    "    for i in range(6,10):\n",
    "        data = df[y+'_0'+str(i)] #①\n",
    "        data = data[data['都道府県コード'] == 13] #②\n",
    "        data_merge = pd.concat([data_merge, data])\n",
    "        \n",
    "data_merge = data_merge[['日付', '搬送人員（計）']]"
   ]
  },
  {
   "cell_type": "code",
   "execution_count": 6,
   "id": "5c71e040",
   "metadata": {},
   "outputs": [
    {
     "data": {
      "text/html": [
       "<div>\n",
       "<style scoped>\n",
       "    .dataframe tbody tr th:only-of-type {\n",
       "        vertical-align: middle;\n",
       "    }\n",
       "\n",
       "    .dataframe tbody tr th {\n",
       "        vertical-align: top;\n",
       "    }\n",
       "\n",
       "    .dataframe thead th {\n",
       "        text-align: right;\n",
       "    }\n",
       "</style>\n",
       "<table border=\"1\" class=\"dataframe\">\n",
       "  <thead>\n",
       "    <tr style=\"text-align: right;\">\n",
       "      <th></th>\n",
       "      <th>日付</th>\n",
       "      <th>搬送人員（計）</th>\n",
       "    </tr>\n",
       "  </thead>\n",
       "  <tbody>\n",
       "    <tr>\n",
       "      <th>12</th>\n",
       "      <td>2010-06-01</td>\n",
       "      <td>0.0</td>\n",
       "    </tr>\n",
       "    <tr>\n",
       "      <th>56</th>\n",
       "      <td>2010-06-02</td>\n",
       "      <td>1.0</td>\n",
       "    </tr>\n",
       "    <tr>\n",
       "      <th>100</th>\n",
       "      <td>2010-06-03</td>\n",
       "      <td>1.0</td>\n",
       "    </tr>\n",
       "    <tr>\n",
       "      <th>145</th>\n",
       "      <td>2010-06-04</td>\n",
       "      <td>3.0</td>\n",
       "    </tr>\n",
       "    <tr>\n",
       "      <th>191</th>\n",
       "      <td>2010-06-05</td>\n",
       "      <td>2.0</td>\n",
       "    </tr>\n",
       "  </tbody>\n",
       "</table>\n",
       "</div>"
      ],
      "text/plain": [
       "            日付  搬送人員（計）\n",
       "12  2010-06-01      0.0\n",
       "56  2010-06-02      1.0\n",
       "100 2010-06-03      1.0\n",
       "145 2010-06-04      3.0\n",
       "191 2010-06-05      2.0"
      ]
     },
     "execution_count": 6,
     "metadata": {},
     "output_type": "execute_result"
    }
   ],
   "source": [
    "data_merge.head()"
   ]
  },
  {
   "cell_type": "markdown",
   "id": "e849d40a",
   "metadata": {},
   "source": [
    "### 4.4. データの選定\n",
    "\n",
    "|データ名|カラム名|用途|\n",
    "|:--|:-:|:-:|\n",
    "|2010～2022.xlsx|日付|外部キー|\n",
    "|2010～2022.xlsx|搬送人員（計）|目的関数|\n",
    "\n",
    "本分析では最高気温が28を超えるものだけで分析する\n",
    "\n",
    " - 参考文献　https://www.wbgt.env.go.jp/wbgt.php"
   ]
  },
  {
   "cell_type": "code",
   "execution_count": 7,
   "id": "511f6639",
   "metadata": {},
   "outputs": [],
   "source": [
    "weather = weather[weather['最高気温(℃)'] > 28]\n",
    "\n",
    "data_merge['日付'] =  data_merge['日付'].astype(str)\n",
    "\n",
    "data_merge = data_merge.dropna()"
   ]
  },
  {
   "cell_type": "markdown",
   "id": "98de9956",
   "metadata": {},
   "source": [
    "### 4.5. 説明変数の追加\n",
    "\n",
    "搬送人員との相関係数が高いため体感温度を説明変数として追加。\n",
    "\n",
    "\n",
    "ミスナールの計算式(改良版)\n",
    "<br>\n",
    "\n",
    "$$ 37 - \\frac{37 -t}{0.68 - 0.0014 × h + \\frac{1}{a}} - 0.29t × (1 - \\frac{h}{100}) $$\n",
    "\n",
    "$$ t：気温（℃）、h：湿度（％）、v：風速（m/s）、a： = 1.76 + 1.4v^{0.75} $$\n",
    "\n",
    " - 参考文献　https://keisan.casio.jp/exec/system/1257417058"
   ]
  },
  {
   "cell_type": "code",
   "execution_count": 8,
   "id": "b7231075",
   "metadata": {},
   "outputs": [],
   "source": [
    "def taikan(t, h, v):\n",
    "    a = 1.76 + 1.4*(v**0.75)\n",
    "    tn = 37 - (37 - t) / (0.68 - 0.0014 * h + 1/a) - 0.29 * t * (1 - h/100)\n",
    "    return tn"
   ]
  },
  {
   "cell_type": "code",
   "execution_count": 9,
   "id": "e301daac",
   "metadata": {},
   "outputs": [],
   "source": [
    "weather['体感温度'] = taikan(weather['最高気温(℃)'], weather['平均湿度(％)'], weather['平均風速(m/s)'])"
   ]
  },
  {
   "cell_type": "markdown",
   "id": "700e4310",
   "metadata": {},
   "source": [
    "### 4.6. データの結合と分割\n",
    "\n",
    "日付を外部キーとして結合"
   ]
  },
  {
   "cell_type": "code",
   "execution_count": 10,
   "id": "b4e5e5da",
   "metadata": {},
   "outputs": [],
   "source": [
    "data_weather = pd.merge(data_merge, weather, on='日付')\n",
    "\n",
    "data_weather = data_weather.drop(['日付','平均風速(m/s)','最高気温(℃)','平均湿度(％)'],axis=1)"
   ]
  },
  {
   "cell_type": "markdown",
   "id": "ca54c023",
   "metadata": {},
   "source": [
    "①目的変数y、説明変数xに分割\n",
    "\n",
    "|変数名|使用データ|\n",
    "|:-:|:-:|\n",
    "|y|搬送人員|\n",
    "|x|体感温度　日照時間|"
   ]
  },
  {
   "cell_type": "code",
   "execution_count": 11,
   "id": "36398c21",
   "metadata": {},
   "outputs": [],
   "source": [
    "y = data_weather['搬送人員（計）'].values\n",
    "x = data_weather.drop(labels=['搬送人員（計）'], axis=1).values"
   ]
  },
  {
   "cell_type": "markdown",
   "id": "c1ab92f5",
   "metadata": {},
   "source": [
    "②訓練データ、テストデータをそれぞれ、7:3に分割する"
   ]
  },
  {
   "cell_type": "code",
   "execution_count": 12,
   "id": "8efbc8f9",
   "metadata": {},
   "outputs": [],
   "source": [
    "x_train, x_test, y_train, y_test = train_test_split(x, y, test_size=0.3, random_state=0)"
   ]
  },
  {
   "cell_type": "markdown",
   "id": "ffd56fbc",
   "metadata": {},
   "source": [
    "### 4.6. 重回帰分析の実装\n"
   ]
  },
  {
   "cell_type": "code",
   "execution_count": 13,
   "id": "be93b31e",
   "metadata": {},
   "outputs": [
    {
     "data": {
      "text/html": [
       "<style>#sk-container-id-1 {color: black;background-color: white;}#sk-container-id-1 pre{padding: 0;}#sk-container-id-1 div.sk-toggleable {background-color: white;}#sk-container-id-1 label.sk-toggleable__label {cursor: pointer;display: block;width: 100%;margin-bottom: 0;padding: 0.3em;box-sizing: border-box;text-align: center;}#sk-container-id-1 label.sk-toggleable__label-arrow:before {content: \"▸\";float: left;margin-right: 0.25em;color: #696969;}#sk-container-id-1 label.sk-toggleable__label-arrow:hover:before {color: black;}#sk-container-id-1 div.sk-estimator:hover label.sk-toggleable__label-arrow:before {color: black;}#sk-container-id-1 div.sk-toggleable__content {max-height: 0;max-width: 0;overflow: hidden;text-align: left;background-color: #f0f8ff;}#sk-container-id-1 div.sk-toggleable__content pre {margin: 0.2em;color: black;border-radius: 0.25em;background-color: #f0f8ff;}#sk-container-id-1 input.sk-toggleable__control:checked~div.sk-toggleable__content {max-height: 200px;max-width: 100%;overflow: auto;}#sk-container-id-1 input.sk-toggleable__control:checked~label.sk-toggleable__label-arrow:before {content: \"▾\";}#sk-container-id-1 div.sk-estimator input.sk-toggleable__control:checked~label.sk-toggleable__label {background-color: #d4ebff;}#sk-container-id-1 div.sk-label input.sk-toggleable__control:checked~label.sk-toggleable__label {background-color: #d4ebff;}#sk-container-id-1 input.sk-hidden--visually {border: 0;clip: rect(1px 1px 1px 1px);clip: rect(1px, 1px, 1px, 1px);height: 1px;margin: -1px;overflow: hidden;padding: 0;position: absolute;width: 1px;}#sk-container-id-1 div.sk-estimator {font-family: monospace;background-color: #f0f8ff;border: 1px dotted black;border-radius: 0.25em;box-sizing: border-box;margin-bottom: 0.5em;}#sk-container-id-1 div.sk-estimator:hover {background-color: #d4ebff;}#sk-container-id-1 div.sk-parallel-item::after {content: \"\";width: 100%;border-bottom: 1px solid gray;flex-grow: 1;}#sk-container-id-1 div.sk-label:hover label.sk-toggleable__label {background-color: #d4ebff;}#sk-container-id-1 div.sk-serial::before {content: \"\";position: absolute;border-left: 1px solid gray;box-sizing: border-box;top: 0;bottom: 0;left: 50%;z-index: 0;}#sk-container-id-1 div.sk-serial {display: flex;flex-direction: column;align-items: center;background-color: white;padding-right: 0.2em;padding-left: 0.2em;position: relative;}#sk-container-id-1 div.sk-item {position: relative;z-index: 1;}#sk-container-id-1 div.sk-parallel {display: flex;align-items: stretch;justify-content: center;background-color: white;position: relative;}#sk-container-id-1 div.sk-item::before, #sk-container-id-1 div.sk-parallel-item::before {content: \"\";position: absolute;border-left: 1px solid gray;box-sizing: border-box;top: 0;bottom: 0;left: 50%;z-index: -1;}#sk-container-id-1 div.sk-parallel-item {display: flex;flex-direction: column;z-index: 1;position: relative;background-color: white;}#sk-container-id-1 div.sk-parallel-item:first-child::after {align-self: flex-end;width: 50%;}#sk-container-id-1 div.sk-parallel-item:last-child::after {align-self: flex-start;width: 50%;}#sk-container-id-1 div.sk-parallel-item:only-child::after {width: 0;}#sk-container-id-1 div.sk-dashed-wrapped {border: 1px dashed gray;margin: 0 0.4em 0.5em 0.4em;box-sizing: border-box;padding-bottom: 0.4em;background-color: white;}#sk-container-id-1 div.sk-label label {font-family: monospace;font-weight: bold;display: inline-block;line-height: 1.2em;}#sk-container-id-1 div.sk-label-container {text-align: center;}#sk-container-id-1 div.sk-container {/* jupyter's `normalize.less` sets `[hidden] { display: none; }` but bootstrap.min.css set `[hidden] { display: none !important; }` so we also need the `!important` here to be able to override the default hidden behavior on the sphinx rendered scikit-learn.org. See: https://github.com/scikit-learn/scikit-learn/issues/21755 */display: inline-block !important;position: relative;}#sk-container-id-1 div.sk-text-repr-fallback {display: none;}</style><div id=\"sk-container-id-1\" class=\"sk-top-container\"><div class=\"sk-text-repr-fallback\"><pre>LinearRegression()</pre><b>In a Jupyter environment, please rerun this cell to show the HTML representation or trust the notebook. <br />On GitHub, the HTML representation is unable to render, please try loading this page with nbviewer.org.</b></div><div class=\"sk-container\" hidden><div class=\"sk-item\"><div class=\"sk-estimator sk-toggleable\"><input class=\"sk-toggleable__control sk-hidden--visually\" id=\"sk-estimator-id-1\" type=\"checkbox\" checked><label for=\"sk-estimator-id-1\" class=\"sk-toggleable__label sk-toggleable__label-arrow\">LinearRegression</label><div class=\"sk-toggleable__content\"><pre>LinearRegression()</pre></div></div></div></div></div>"
      ],
      "text/plain": [
       "LinearRegression()"
      ]
     },
     "execution_count": 13,
     "metadata": {},
     "output_type": "execute_result"
    }
   ],
   "source": [
    "model = LinearRegression()\n",
    "\n",
    "model.fit(x_train, y_train)"
   ]
  },
  {
   "cell_type": "markdown",
   "id": "ffb08431",
   "metadata": {},
   "source": [
    "## 5. 分析結果と検証\n",
    "\n",
    "### 5.1. 重回帰分析の精度\n"
   ]
  },
  {
   "cell_type": "code",
   "execution_count": 14,
   "id": "cf10a3f6",
   "metadata": {},
   "outputs": [
    {
     "name": "stdout",
     "output_type": "stream",
     "text": [
      "重回帰分析\n",
      "train score :  0.5690448385430392\n",
      "test score :  0.5538601980987812\n"
     ]
    }
   ],
   "source": [
    "print('重回帰分析')\n",
    "print('train score : ', model.score(x_train, y_train))\n",
    "print('test score : ', model.score(x_test, y_test))"
   ]
  },
  {
   "cell_type": "markdown",
   "id": "cb56575b",
   "metadata": {},
   "source": [
    "### 5.2. K-分割交差検証\n",
    "\n",
    "K-分割交差検証　データをK個に分割してそのうち1つをテストデータに残りのK-1個を学習データとして正解率の評価を行う手法\n",
    "\n",
    "本分析では6個に分割して評価を行う"
   ]
  },
  {
   "cell_type": "code",
   "execution_count": 15,
   "id": "d0f90135",
   "metadata": {},
   "outputs": [
    {
     "name": "stdout",
     "output_type": "stream",
     "text": [
      "各分割のスコア: [0.59456462 0.39327297 0.71672012 0.51859043 0.56645033 0.4868164 ]\n",
      "平均スコア: 0.5460691445313347\n"
     ]
    }
   ],
   "source": [
    "scores = cross_val_score(model, x, y, cv=6, scoring='r2')\n",
    "\n",
    "print(\"各分割のスコア:\", scores)\n",
    "print(\"平均スコア:\", np.mean(scores))"
   ]
  },
  {
   "cell_type": "markdown",
   "id": "3b57e7aa",
   "metadata": {},
   "source": [
    "### 5.3. 多重共線性\n",
    "\n",
    "多重共線性　説明変数間の相関が高い時又は，ある説明変数が他の説明変数によって説明されてしまう時などに起こる\n",
    "\n",
    "本分析では分散拡大要因(Variance Inflation Factor: VIF)という指標を用いて，VIFが10以上になっていないか確認する"
   ]
  },
  {
   "cell_type": "code",
   "execution_count": 16,
   "id": "556b6885",
   "metadata": {},
   "outputs": [
    {
     "data": {
      "text/html": [
       "<div>\n",
       "<style scoped>\n",
       "    .dataframe tbody tr th:only-of-type {\n",
       "        vertical-align: middle;\n",
       "    }\n",
       "\n",
       "    .dataframe tbody tr th {\n",
       "        vertical-align: top;\n",
       "    }\n",
       "\n",
       "    .dataframe thead th {\n",
       "        text-align: right;\n",
       "    }\n",
       "</style>\n",
       "<table border=\"1\" class=\"dataframe\">\n",
       "  <thead>\n",
       "    <tr style=\"text-align: right;\">\n",
       "      <th></th>\n",
       "      <th>Variable</th>\n",
       "      <th>VIF</th>\n",
       "    </tr>\n",
       "  </thead>\n",
       "  <tbody>\n",
       "    <tr>\n",
       "      <th>1</th>\n",
       "      <td>日照時間(時間)</td>\n",
       "      <td>5.038498</td>\n",
       "    </tr>\n",
       "    <tr>\n",
       "      <th>2</th>\n",
       "      <td>体感温度</td>\n",
       "      <td>4.641181</td>\n",
       "    </tr>\n",
       "    <tr>\n",
       "      <th>0</th>\n",
       "      <td>搬送人員（計）</td>\n",
       "      <td>2.232179</td>\n",
       "    </tr>\n",
       "  </tbody>\n",
       "</table>\n",
       "</div>"
      ],
      "text/plain": [
       "   Variable       VIF\n",
       "1  日照時間(時間)  5.038498\n",
       "2      体感温度  4.641181\n",
       "0   搬送人員（計）  2.232179"
      ]
     },
     "execution_count": 16,
     "metadata": {},
     "output_type": "execute_result"
    }
   ],
   "source": [
    "vif = pd.DataFrame()\n",
    "vif[\"Variable\"] = data_weather.columns\n",
    "vif[\"VIF\"] = [variance_inflation_factor(data_weather.values, i) for i in range(data_weather.shape[1])]\n",
    "\n",
    "vif.sort_values('VIF', ascending=False)"
   ]
  },
  {
   "cell_type": "markdown",
   "id": "344aeaef",
   "metadata": {},
   "source": [
    "### 5.4. 学習済みモデルの保存"
   ]
  },
  {
   "cell_type": "code",
   "execution_count": 17,
   "id": "ab8ebec0",
   "metadata": {},
   "outputs": [],
   "source": [
    "with open('model.pickle', mode='wb') as f:\n",
    "    pickle.dump(model,f,protocol=2)"
   ]
  },
  {
   "cell_type": "markdown",
   "id": "c51c9d74",
   "metadata": {},
   "source": [
    "## 6. 改善点\n",
    "\n",
    "1. 天候以外のデータの利用\n",
    "\n",
    "熱中症の影響は気象データだけでなく、地形、人口、都市環境などの多くの要素が影響すると考えられる。これらの要素を組み合わせた総合的な分析を行い、熱中症のリスク要因や影響を包括的に評価し、効果的な予防策や対策を検討することが可能。\n",
    "\n",
    "2. 詳細な搬送人員のデータ\n",
    "\n",
    "本分析では都道府県単位の搬送人員データを使用しましたが、さらに詳細な地域別や時間帯別の搬送人員データを取得・活用することで、熱中症の発生パターンや影響の時間的変化を捉えることが可能である。これにより、より精緻な分析と熱中症のリスク予測が行える。"
   ]
  }
 ],
 "metadata": {
  "kernelspec": {
   "display_name": "Python 3 (ipykernel)",
   "language": "python",
   "name": "python3"
  },
  "language_info": {
   "codemirror_mode": {
    "name": "ipython",
    "version": 3
   },
   "file_extension": ".py",
   "mimetype": "text/x-python",
   "name": "python",
   "nbconvert_exporter": "python",
   "pygments_lexer": "ipython3",
   "version": "3.10.9"
  }
 },
 "nbformat": 4,
 "nbformat_minor": 5
}
